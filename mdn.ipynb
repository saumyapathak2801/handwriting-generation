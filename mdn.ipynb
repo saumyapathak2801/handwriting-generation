{
 "cells": [
  {
   "cell_type": "code",
   "execution_count": 5,
   "metadata": {},
   "outputs": [],
   "source": [
    "# Gaussian Function over points in two dimensions\n",
    "# Given mean in two dimensions, variance in two dimensions\n",
    "import tensorflow as tf\n",
    "def gaussian(x1, x2, mean1, mean2, var1, var2, rho):\n",
    "    x_mean1 = tf.subtract(x1, mean1)\n",
    "    x_mean2 = tf.subtract(x2, mean2)\n",
    "    x_norm1 = tf.div(x_mean1, var1)\n",
    "    x_norm2 = tf.div(x_mean2, var2)\n",
    "    Z = tf.square(x_norm1) + tf.square(x_norm2) - 2*tf.div(tf.multiply(rho, tf.multiply(x_mu1, x_mu2)), tf.multiply(s1, s2))\n",
    "    rho_square_term = 1-tf.square(rho)\n",
    "    power_e = tf.exp(tf.div(-Z,2*rho_square_term))\n",
    "    regularize_term = 2*np.pi*tf.multiply(tf.multiply(s1, s2), tf.sqrt(rho_square_term))\n",
    "    gaussian = tf.div(power_e, regularize_term)\n",
    "    return gaussian\n",
    "\n",
    "\n",
    "    "
   ]
  },
  {
   "cell_type": "code",
   "execution_count": 7,
   "metadata": {},
   "outputs": [
    {
     "name": "stdout",
     "output_type": "stream",
     "text": [
      "\n",
      "WARNING: The TensorFlow contrib module will not be included in TensorFlow 2.0.\n",
      "For more information, please see:\n",
      "  * https://github.com/tensorflow/community/blob/master/rfcs/20180907-contrib-sunset.md\n",
      "  * https://github.com/tensorflow/addons\n",
      "If you depend on functionality not listed there, please file an issue.\n",
      "\n",
      "WARNING:tensorflow:From /anaconda3/lib/python3.7/site-packages/tensorflow/python/framework/op_def_library.py:263: colocate_with (from tensorflow.python.framework.ops) is deprecated and will be removed in a future version.\n",
      "Instructions for updating:\n",
      "Colocations handled automatically by placer.\n"
     ]
    },
    {
     "ename": "NameError",
     "evalue": "name 'output_from_lstm_layers' is not defined",
     "output_type": "error",
     "traceback": [
      "\u001b[0;31m---------------------------------------------------------------------------\u001b[0m",
      "\u001b[0;31mNameError\u001b[0m                                 Traceback (most recent call last)",
      "\u001b[0;32m<ipython-input-7-71af6da44733>\u001b[0m in \u001b[0;36m<module>\u001b[0;34m\u001b[0m\n\u001b[1;32m      9\u001b[0m \u001b[0;34m\u001b[0m\u001b[0m\n\u001b[1;32m     10\u001b[0m \u001b[0;31m# Feeding output from all 3 hidden lstm layers in MDN\u001b[0m\u001b[0;34m\u001b[0m\u001b[0;34m\u001b[0m\u001b[0;34m\u001b[0m\u001b[0m\n\u001b[0;32m---> 11\u001b[0;31m \u001b[0moutput\u001b[0m \u001b[0;34m=\u001b[0m \u001b[0mtf\u001b[0m\u001b[0;34m.\u001b[0m\u001b[0mnn\u001b[0m\u001b[0;34m.\u001b[0m\u001b[0mxw_plus_b\u001b[0m\u001b[0;34m(\u001b[0m\u001b[0moutput_from_lstm_layers\u001b[0m\u001b[0;34m,\u001b[0m \u001b[0mmdn_w\u001b[0m\u001b[0;34m,\u001b[0m \u001b[0mmdn_b\u001b[0m\u001b[0;34m)\u001b[0m \u001b[0;31m#data flows through dense nn\u001b[0m\u001b[0;34m\u001b[0m\u001b[0;34m\u001b[0m\u001b[0m\n\u001b[0m\u001b[1;32m     12\u001b[0m \u001b[0;34m\u001b[0m\u001b[0m\n",
      "\u001b[0;31mNameError\u001b[0m: name 'output_from_lstm_layers' is not defined"
     ]
    }
   ],
   "source": [
    "# Number of parameters per gaussian\n",
    "# 6*(Number of mixtures) parameters plus end of stroke. Total = 7\n",
    "num_mixtures = 20\n",
    "rnn_size = 400\n",
    "n_out = 1 + 6*num_mixtures\n",
    "with tf.variable_scope('mdn_dense'):\n",
    "    w = tf.get_variable(\"out_w\", [rnn_size, n_out], initializer = tf.contrib.layers.xavier_initializer(seed=0))\n",
    "    b = tf.get_variable(\"out_b\", [n_out, 1], initializer = tf.contrib.layers.xavier_initializer(seed=0))\n",
    "\n",
    "# Feeding output from all 3 hidden lstm layers in MDN    \n",
    "output = tf.nn.xw_plus_b(output_from_lstm_layers, mdn_w, mdn_b) #data flows through dense nn\n",
    "    "
   ]
  },
  {
   "cell_type": "code",
   "execution_count": 8,
   "metadata": {},
   "outputs": [],
   "source": [
    "def get_loss(pi, x1_data, x2_data, mean1, mean2, var1, var2, eos_data, eos, rho):\n",
    "    gaussian = gaussian(x1_data, x2_data, mean1, mean2, var1, var2, rho)\n",
    "    term1 = tf.multiply(gaussian, pi)\n",
    "    # Do summation according to the formula\n",
    "    summation = tf.reduce_sum(term1, 1, keep_dims = true)\n",
    "    logloss_first = -tf.log(summation, 1e-20) # If the summation is by chance 0, we do not want log to go to infinity\n",
    "    \n",
    "    term2 = tf.multiply(eos, eos_data) + tf.multiply(1-eos, 1-eos_data) #modified Bernoulli -> eos probability\n",
    "    logloss_second = -tf.log(term2)\n",
    "    \n",
    "    return tf.reduce_sum(term1 + term2) #do outer summation\n",
    "\n",
    "# Models coefficients for MDN as a function of input from LSTM cells.\n",
    "def get_mdn_coefficients(Z):\n",
    "    eos_hat = Z[:][0:1] # end of sentence tokens\n",
    "    # Split Z into slices of 6x1, for defining MDN coefficients for 2D gaussian.\n",
    "    pi_hat, mean1_hat, mean2_hat, var1_hat, var2_hat, rho_hat = tf.split(Z[:, 1:], 6, 1)\n",
    "    eos = tf.sigmoid(-1*eos_hat) # technically we gained a negative sign\n",
    "    pi = tf.nn.softmax(pi_hat) # softmax z_pi:\n",
    "    mu1 = mu1_hat; mu2 = mu2_hat # leave mu1, mu2 as they are\n",
    "    sigma1 = tf.exp(sigma1_hat); sigma2 = tf.exp(sigma2_hat) # exp for sigmas\n",
    "    rho = tf.tanh(rho_hat) # tanh for rho (squish between -1 and 1)\n",
    "    return [eos, pi, mu1, mu2, sigma1, sigma2, rho]\n",
    "    \n",
    "\n",
    "[self.eos, self.pi, self.mu1, self.mu2, self.sigma1, self.sigma2, self.rho] = get_mdn_coefficients(output)   \n",
    "loss = get_loss(pi, )"
   ]
  },
  {
   "cell_type": "code",
   "execution_count": null,
   "metadata": {},
   "outputs": [],
   "source": [
    "\n",
    "    "
   ]
  }
 ],
 "metadata": {
  "kernelspec": {
   "display_name": "Python 3",
   "language": "python",
   "name": "python3"
  },
  "language_info": {
   "codemirror_mode": {
    "name": "ipython",
    "version": 3
   },
   "file_extension": ".py",
   "mimetype": "text/x-python",
   "name": "python",
   "nbconvert_exporter": "python",
   "pygments_lexer": "ipython3",
   "version": "3.7.1"
  }
 },
 "nbformat": 4,
 "nbformat_minor": 2
}
