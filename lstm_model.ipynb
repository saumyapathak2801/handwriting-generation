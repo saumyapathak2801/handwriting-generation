{
 "cells": [
  {
   "cell_type": "code",
   "execution_count": 2,
   "metadata": {},
   "outputs": [],
   "source": [
    "import os\n",
    "import pickle\n",
    "import xml.etree.ElementTree as ET\n",
    "import random\n",
    "import numpy as np\n",
    "import tensorflow as tf"
   ]
  },
  {
   "cell_type": "code",
   "execution_count": 3,
   "metadata": {},
   "outputs": [
    {
     "ename": "SyntaxError",
     "evalue": "unexpected EOF while parsing (<ipython-input-3-e27fbf09d3ab>, line 4)",
     "output_type": "error",
     "traceback": [
      "\u001b[0;36m  File \u001b[0;32m\"<ipython-input-3-e27fbf09d3ab>\"\u001b[0;36m, line \u001b[0;32m4\u001b[0m\n\u001b[0;31m    \u001b[0m\n\u001b[0m    ^\u001b[0m\n\u001b[0;31mSyntaxError\u001b[0m\u001b[0;31m:\u001b[0m unexpected EOF while parsing\n"
     ]
    }
   ],
   "source": [
    "class LSTM:\n",
    "    def __init__(self, num_units, batch_size, tsteps):\n",
    "        # Initialize Parameters required to run LSTM model\n",
    "        self.num_units = num_units\n",
    "        self.batch_size = batch_size\n",
    "        self.tsteps = tsteps\n",
    "        self.lstm_a = initialize_single_lstm_unit(num_units)\n",
    "        self.lstm_b = initialize_single_lstm_unit(num_units)\n",
    "        self.lstm_c = initialize_single_lstm_unit(num_units)\n",
    "        self.istate_lstm_a = self.lstm_a.zero_state(batch_size, dtype=tf.float32)\n",
    "        self.istate_lstm_b = self.lstm_b.zero_state(batch_size, dtype=tf.float32)\n",
    "        self.istate_lstm_c = self.lstm_b.zero_state(batch_size, dtype=tf.float32)\n",
    "        self.input_data = tf.placeholder(dtype=tf.float32, shape=[None, self.tsteps, 3])\n",
    "        \n",
    "    def initialize_single_lstm_unit(num_units):\n",
    "        return tf.contrib.rnn.LSTMCell(num_units, initializer = tf.contrib.layers.xavier_initializer)\n",
    "        \n",
    "    def build_lstm_model(self):\n",
    "        \n",
    "        "
   ]
  },
  {
   "cell_type": "code",
   "execution_count": null,
   "metadata": {},
   "outputs": [],
   "source": []
  }
 ],
 "metadata": {
  "kernelspec": {
   "display_name": "Python 3",
   "language": "python",
   "name": "python3"
  },
  "language_info": {
   "codemirror_mode": {
    "name": "ipython",
    "version": 3
   },
   "file_extension": ".py",
   "mimetype": "text/x-python",
   "name": "python",
   "nbconvert_exporter": "python",
   "pygments_lexer": "ipython3",
   "version": "3.7.1"
  }
 },
 "nbformat": 4,
 "nbformat_minor": 2
}
